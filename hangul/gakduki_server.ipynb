{
 "cells": [
  {
   "cell_type": "code",
   "execution_count": 2,
   "metadata": {},
   "outputs": [
    {
     "name": "stdout",
     "output_type": "stream",
     "text": [
      "Overwriting server.py\n"
     ]
    }
   ],
   "source": [
    "%%writefile server.py\n",
    "\n",
    "from tensorflow.keras.models import load_model \n",
    "from flask import Flask,render_template,url_for,request\n",
    "import tensorflow as tf\n",
    "import flask\n",
    "import base64\n",
    "import numpy as np\n",
    "import cv2\n",
    "import io\n",
    "\n",
    "init_Base64 = 21\n",
    "app = Flask(__name__)\n",
    "\n",
    "model_kor = load_model('hand_written_korean_classification.hdf5')\n",
    "\n",
    "# load korean label\n",
    "labels_file = io.open(\"label.txt\", 'r', encoding='utf-8').read().splitlines()\n",
    "label = [str for str in labels_file]\n",
    "\n",
    "@app.route('/')\n",
    "def home():\n",
    "    return render_template(\"mnist.html\")\n",
    "\n",
    "@app.route('/upload', methods=['POST'])\n",
    "def upload():        \n",
    "    global model_digit\n",
    "    \n",
    "    draw = request.form['url']  \n",
    "    draw = draw[init_Base64:]\n",
    "    draw_decoded = base64.b64decode(draw)\n",
    "    image = np.asarray(bytearray(draw_decoded), dtype=\"uint8\")\n",
    "\n",
    "    mode = request.form.get(\"mode\", \"korean\")\n",
    "    \n",
    "    if mode == \"digit\":\n",
    "        image = cv2.imdecode(image, cv2.IMREAD_GRAYSCALE)    \n",
    "        image = cv2.resize(image, dsize=(28, 28), interpolation=cv2.INTER_AREA)    \n",
    "        image = image.reshape(1,28,28,1)\n",
    "        p = model_digit.predict(image)\n",
    "        p = np.argmax(p)\n",
    "        \n",
    "    elif mode == \"korean\":\n",
    "        f= open(\"data1\", 'r')\n",
    "        line= f.readline()\n",
    "        print(line)\n",
    "        f.close\n",
    "        image = cv2.imdecode(image, cv2.IMREAD_COLOR)    \n",
    "        image = cv2.resize(image, dsize=(32, 32), interpolation=cv2.INTER_AREA)    \n",
    "        image = (255 - image) / 255.0\n",
    "        image = image.reshape(1,32,32,3)\n",
    "        p = model_kor.predict(image)\n",
    "        p = label[np.argmax(p)]\n",
    "        image = image.reshape(32, 32, 3)\n",
    "        print(image)\n",
    "        cv2.imwrite('gak_result/result.jpg', image)\n",
    "        print(p)\n",
    "        \n",
    "    return f\"<div result : {p} <a href='javascript:history.back()'>뒤로</a>\"\n",
    "\n",
    "if __name__ == '__main__':\n",
    "    app.run(host='0.0.0.0', debug=True, port=8000)"
   ]
  },
  {
   "cell_type": "code",
   "execution_count": null,
   "metadata": {},
   "outputs": [],
   "source": []
  }
 ],
 "metadata": {
  "kernelspec": {
   "display_name": "Python 3",
   "language": "python",
   "name": "python3"
  },
  "language_info": {
   "codemirror_mode": {
    "name": "ipython",
    "version": 3
   },
   "file_extension": ".py",
   "mimetype": "text/x-python",
   "name": "python",
   "nbconvert_exporter": "python",
   "pygments_lexer": "ipython3",
   "version": "3.7.6"
  },
  "toc": {
   "base_numbering": 1,
   "nav_menu": {},
   "number_sections": false,
   "sideBar": true,
   "skip_h1_title": false,
   "title_cell": "Table of Contents",
   "title_sidebar": "Contents",
   "toc_cell": false,
   "toc_position": {},
   "toc_section_display": true,
   "toc_window_display": false
  }
 },
 "nbformat": 4,
 "nbformat_minor": 4
}
