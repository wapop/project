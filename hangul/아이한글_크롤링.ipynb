{
 "cells": [
  {
   "cell_type": "code",
   "execution_count": 35,
   "metadata": {},
   "outputs": [],
   "source": [
    "from bs4 import BeautifulSoup\n",
    "import csv\n",
    "import requests\n",
    "import pandas as pd\n",
    "import re\n",
    "from urllib.request import urlopen"
   ]
  },
  {
   "cell_type": "code",
   "execution_count": 62,
   "metadata": {},
   "outputs": [],
   "source": [
    "url = \"http://www.ihangul.kr/main/bbs/board.php?bo_table=m2_1a&sca=%EA%B0%80%EC%A1%B1%EB%AA%85%EC%B9%AD\""
   ]
  },
  {
   "cell_type": "code",
   "execution_count": 63,
   "metadata": {},
   "outputs": [
    {
     "data": {
      "text/plain": [
       "<Response [200]>"
      ]
     },
     "execution_count": 63,
     "metadata": {},
     "output_type": "execute_result"
    }
   ],
   "source": [
    "response = requests.get(url)\n",
    "response"
   ]
  },
  {
   "cell_type": "code",
   "execution_count": 64,
   "metadata": {},
   "outputs": [],
   "source": [
    "soup = BeautifulSoup(urlopen(url),\"html.parser\")"
   ]
  },
  {
   "cell_type": "code",
   "execution_count": 65,
   "metadata": {},
   "outputs": [],
   "source": [
    "link_list = []\n",
    "\n",
    "for link in soup.findAll('h2'):\n",
    "    link_list.append(link.get_text().strip())"
   ]
  },
  {
   "cell_type": "code",
   "execution_count": 66,
   "metadata": {},
   "outputs": [
    {
     "data": {
      "text/plain": [
       "['할머니 (Grandmother)',\n",
       " '할아버지 (Grandfather)',\n",
       " '아버지 (Father)',\n",
       " '어머니 (Mother)',\n",
       " '오빠 (Girls elder brother)',\n",
       " '형 (Boys elder brother)',\n",
       " '나 (Myself)',\n",
       " '남동생 (Younger brother)',\n",
       " '여동생 (Younger sister)',\n",
       " '언니 (Girls elder sister)',\n",
       " '누나 (Boys elder sister)',\n",
       " '삼촌 (Uncle)',\n",
       " '고모 (Aunt)',\n",
       " '이모 (Aunt)',\n",
       " '이모부 (Uncle)']"
      ]
     },
     "execution_count": 66,
     "metadata": {},
     "output_type": "execute_result"
    }
   ],
   "source": [
    "link_list"
   ]
  },
  {
   "cell_type": "code",
   "execution_count": 67,
   "metadata": {},
   "outputs": [
    {
     "name": "stdout",
     "output_type": "stream",
     "text": [
      "['할머니', '할아버지', '아버지', '어머니', '오빠', '형', '나', '남동생', '여동생', '언니', '누나', '삼촌', '고모', '이모', '이모부']\n"
     ]
    }
   ],
   "source": [
    "i = 1\n",
    "temp_list = []\n",
    "for i in range(0,len(link_list)):\n",
    "    temp_list.append(link_list[i].split()[0])\n",
    "print(temp_list)"
   ]
  },
  {
   "cell_type": "code",
   "execution_count": 68,
   "metadata": {},
   "outputs": [],
   "source": [
    "file = open('아이한글_가족.txt', 'w', encoding ='utf-8')\n",
    "\n",
    "for temp in temp_list :\n",
    "    file.write (temp + '\\n')\n",
    "\n",
    "file.close()"
   ]
  },
  {
   "cell_type": "code",
   "execution_count": 56,
   "metadata": {},
   "outputs": [],
   "source": [
    "url = 'http://www.ihangul.kr/main/bbs/board.php?bo_table=m2_1a&sca=%EC%A7%91%EC%95%88%EC%82%AC%EB%AC%BC'"
   ]
  },
  {
   "cell_type": "code",
   "execution_count": 57,
   "metadata": {},
   "outputs": [
    {
     "data": {
      "text/plain": [
       "<Response [200]>"
      ]
     },
     "execution_count": 57,
     "metadata": {},
     "output_type": "execute_result"
    }
   ],
   "source": [
    "response = requests.get(url)\n",
    "response"
   ]
  },
  {
   "cell_type": "code",
   "execution_count": 58,
   "metadata": {},
   "outputs": [],
   "source": [
    "soup = BeautifulSoup(urlopen(url),\"html.parser\")"
   ]
  },
  {
   "cell_type": "code",
   "execution_count": 59,
   "metadata": {},
   "outputs": [],
   "source": [
    "link_list = []\n",
    "\n",
    "for link in soup.findAll('h2'):\n",
    "    link_list.append(link.get_text().strip())"
   ]
  },
  {
   "cell_type": "code",
   "execution_count": 60,
   "metadata": {},
   "outputs": [
    {
     "name": "stdout",
     "output_type": "stream",
     "text": [
      "['소파', '욕조', '거울', '샤워기', '소변기', '싱크대', '부엌', '거실', '안방', '옷장', '화장대', '식탁', '책장', '작은방', '침대']\n"
     ]
    }
   ],
   "source": [
    "i = 1\n",
    "temp_list = []\n",
    "for i in range(0,len(link_list)):\n",
    "    temp_list.append(link_list[i].split()[0])\n",
    "print(temp_list)"
   ]
  },
  {
   "cell_type": "code",
   "execution_count": 61,
   "metadata": {},
   "outputs": [],
   "source": [
    "file = open('아이한글_사물.txt', 'w', encoding ='utf-8')\n",
    "\n",
    "for temp in temp_list :\n",
    "    file.write (temp + '\\n')\n",
    "\n",
    "file.close()"
   ]
  },
  {
   "cell_type": "code",
   "execution_count": null,
   "metadata": {},
   "outputs": [],
   "source": []
  },
  {
   "cell_type": "code",
   "execution_count": null,
   "metadata": {},
   "outputs": [],
   "source": []
  }
 ],
 "metadata": {
  "kernelspec": {
   "display_name": "Python 3",
   "language": "python",
   "name": "python3"
  },
  "language_info": {
   "codemirror_mode": {
    "name": "ipython",
    "version": 3
   },
   "file_extension": ".py",
   "mimetype": "text/x-python",
   "name": "python",
   "nbconvert_exporter": "python",
   "pygments_lexer": "ipython3",
   "version": "3.7.6"
  },
  "toc": {
   "base_numbering": 1,
   "nav_menu": {},
   "number_sections": false,
   "sideBar": true,
   "skip_h1_title": false,
   "title_cell": "Table of Contents",
   "title_sidebar": "Contents",
   "toc_cell": false,
   "toc_position": {},
   "toc_section_display": true,
   "toc_window_display": false
  }
 },
 "nbformat": 4,
 "nbformat_minor": 4
}
